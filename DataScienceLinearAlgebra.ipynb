{
 "cells": [
  {
   "cell_type": "markdown",
   "metadata": {},
   "source": [
    "The Sure Tomorrow insurance company wants to protect its clients' data. Your task is to develop a data transforming algorithm that would make it hard to recover personal information from the transformed data. Prove that the algorithm works correctly\n",
    "\n",
    "The data should be protected in such a way that the quality of machine learning models doesn't suffer. You don't need to pick the best model."
   ]
  },
  {
   "cell_type": "markdown",
   "metadata": {},
   "source": [
    "## 1. Data downloading"
   ]
  },
  {
   "cell_type": "code",
   "execution_count": 1,
   "metadata": {},
   "outputs": [],
   "source": [
    "import pandas as pd\n",
    "import numpy as np\n",
    "from numpy.random import RandomState\n",
    "state = RandomState(322)\n",
    "from sklearn.model_selection import train_test_split\n",
    "from sklearn.linear_model import LinearRegression\n",
    "from sklearn.metrics import r2_score"
   ]
  },
  {
   "cell_type": "code",
   "execution_count": 2,
   "metadata": {},
   "outputs": [],
   "source": [
    "df = pd.read_csv('/datasets/insurance_us.csv')"
   ]
  },
  {
   "cell_type": "code",
   "execution_count": 3,
   "metadata": {},
   "outputs": [],
   "source": [
    "features = df.drop('Insurance benefits',axis=1)\n",
    "target = df['Insurance benefits']"
   ]
  },
  {
   "cell_type": "markdown",
   "metadata": {},
   "source": [
    "## 2. Multiplication of matrices"
   ]
  },
  {
   "cell_type": "markdown",
   "metadata": {},
   "source": [
    "In this task, you can write formulas in *Jupyter Notebook.*\n",
    "\n",
    "To write the formula in-between the text, frame it with dollar signs \\\\$; if it should be outside the text —  with double signs \\\\$\\\\$. These formulas are written in markup language *LaTeX.* \n",
    "\n",
    "For example, we wrote down linear regression formulas. You can copy and edit them to solve the task.\n",
    "\n",
    "You don't have to use *LaTeX*."
   ]
  },
  {
   "cell_type": "markdown",
   "metadata": {},
   "source": [
    "Denote:\n",
    "\n",
    "- $X$ — feature matrix (zero column consists of unities)\n",
    "\n",
    "- $y$ — target vector\n",
    "\n",
    "- $P$ — matrix by which the features are multiplied\n",
    "\n",
    "- $w$ — linear regression weight vector (zero element is equal to the shift)"
   ]
  },
  {
   "cell_type": "markdown",
   "metadata": {},
   "source": [
    "Predictions:\n",
    "\n",
    "$$\n",
    "a = Xw\n",
    "$$\n",
    "\n",
    "Training objective:\n",
    "\n",
    "$$\n",
    "\\min_w d_2(Xw, y)\n",
    "$$\n",
    "\n",
    "Training formula:\n",
    "\n",
    "$$\n",
    "w = (X^T X)^{-1} X^T y\n",
    "$$"
   ]
  },
  {
   "cell_type": "markdown",
   "metadata": {},
   "source": [
    "Answer: Lets multiply $x$ by the matrix $P$ and follow the algebra\n",
    "\n",
    "$$ w'=((XP)^TXP)^{-1}(XP)^Ty $$\n",
    "\n",
    "$$ w'=(P^TX^T(XP))^{-1}(XP)^Ty $$\n",
    "\n",
    "$$w'=(P^T(X^TX)P)^{-1}(XP)^Ty$$\n",
    "\n",
    "$$w'=P^{-1}(X^TX)^{-1}(P^T)^{-1}(XP)^Ty $$\n",
    "\n",
    "$$w'=P^{-1}(X^TX)^{-1}(P^T)^{-1}P^TX^Ty$$\n",
    "\n",
    "$$w'=P^{-1}(X^TX)^{-1}X^Ty$$\n",
    "\n",
    "$$w'=P^{-1}w$$\n",
    "\n",
    "$$a=Xw \\;\\;a'=X'w'$$\n",
    "\n",
    "$$ X'=XP$$\n",
    "and now because we know that $w'=P^{-1}w$ we can conclude that:\n",
    "$$a'=XPP^{-1}w=Xw=a$$\n",
    "where $a$ and $a'$ are prediction matrices\n",
    "$$$$\n",
    "Justification:\n",
    "After all the algebra we can see that $w$ is the same as $w'$"
   ]
  },
  {
   "cell_type": "markdown",
   "metadata": {},
   "source": [
    "## 3. Transformation algorithm"
   ]
  },
  {
   "cell_type": "markdown",
   "metadata": {},
   "source": [
    "** Algorithm**\n",
    "\n",
    "\n"
   ]
  },
  {
   "cell_type": "code",
   "execution_count": 4,
   "metadata": {},
   "outputs": [],
   "source": [
    "def transform(matrix):\n",
    "    flag = True\n",
    "    while(flag):\n",
    "        P = np.random.rand(matrix.shape[1],matrix.shape[1])\n",
    "        try:\n",
    "            np.linalg.inv(P)\n",
    "            flag = False\n",
    "        except: flag = True\n",
    "    return P, matrix @ P"
   ]
  },
  {
   "cell_type": "markdown",
   "metadata": {},
   "source": [
    "** Justification**\n",
    "\n",
    "I multiplied the features matrix by an invertible matrix, and according to algebra in part 2 predictions using these weighs are the same as it was without P"
   ]
  },
  {
   "cell_type": "code",
   "execution_count": 5,
   "metadata": {},
   "outputs": [],
   "source": [
    "P, new_features = transform(features)"
   ]
  },
  {
   "cell_type": "markdown",
   "metadata": {},
   "source": [
    "## 4. Algorithm test"
   ]
  },
  {
   "cell_type": "code",
   "execution_count": 6,
   "metadata": {},
   "outputs": [],
   "source": [
    "features_train, features_test, target_train, target_test = train_test_split(new_features,target,test_size=0.25,random_state=12345)\n",
    "features_train_old,features_test_old = train_test_split(features,test_size=0.25,random_state=12345)"
   ]
  },
  {
   "cell_type": "code",
   "execution_count": 7,
   "metadata": {},
   "outputs": [
    {
     "data": {
      "text/plain": [
       "0.43522757126872025"
      ]
     },
     "execution_count": 7,
     "metadata": {},
     "output_type": "execute_result"
    }
   ],
   "source": [
    "model = LinearRegression()\n",
    "model.fit(features_train,target_train)\n",
    "pred = model.predict(features_test)\n",
    "r2_score(target_test,pred)"
   ]
  },
  {
   "cell_type": "code",
   "execution_count": 8,
   "metadata": {},
   "outputs": [
    {
     "data": {
      "text/plain": [
       "0.435227571270266"
      ]
     },
     "execution_count": 8,
     "metadata": {},
     "output_type": "execute_result"
    }
   ],
   "source": [
    "model = LinearRegression()\n",
    "model.fit(features_train_old,target_train)\n",
    "pred = model.predict(features_test_old)\n",
    "r2_score(target_test,pred)"
   ]
  },
  {
   "cell_type": "markdown",
   "metadata": {},
   "source": [
    "as you can see the r2 score is the really close with old features and new features"
   ]
  }
 ],
 "metadata": {
  "kernelspec": {
   "display_name": "Python 3",
   "language": "python",
   "name": "python3"
  },
  "language_info": {
   "codemirror_mode": {
    "name": "ipython",
    "version": 3
   },
   "file_extension": ".py",
   "mimetype": "text/x-python",
   "name": "python",
   "nbconvert_exporter": "python",
   "pygments_lexer": "ipython3",
   "version": "3.7.6"
  }
 },
 "nbformat": 4,
 "nbformat_minor": 2
}
